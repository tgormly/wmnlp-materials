{
 "cells": [
  {
   "cell_type": "markdown",
   "metadata": {},
   "source": [
    "# Web Mining and Applied NLP (44-620)\n",
    "\n",
    "## Requests, JSON, and NLP\n",
    "\n",
    "# Tim Gormly\n",
    "\n",
    "### 3/18/2024:\n",
    "\n",
    "Perform the tasks described in the Markdown cells below.  When you have completed the assignment make sure your code cells have all been run (and have output beneath them) and ensure you have committed and pushed ALL of your changes to your assignment repository.\n",
    "\n",
    "Make sure you have [installed spaCy and its pipeline](https://spacy.io/usage#quickstart) and [spaCyTextBlob](https://spacy.io/universe/project/spacy-textblob)\n",
    "\n",
    "Every question that requires you to write code will have a code cell underneath it; you may either write your entire solution in that cell or write it in a python file (`.py`), then import and run the appropriate code to answer the question.\n",
    "\n",
    "This assignment requires that you write additional files (either JSON or pickle files); make sure to submit those files in your repository as well."
   ]
  },
  {
   "cell_type": "markdown",
   "metadata": {},
   "source": [
    "1. The following code accesses the [lyrics.ovh](https://lyricsovh.docs.apiary.io/#reference/0/lyrics-of-a-song/search) public api, searches for the lyrics of a song, and stores it in a dictionary object.  Write the resulting json to a file (either a JSON file or a pickle file; you choose). You will read in the contents of this file for future questions so we do not need to frequently access the API."
   ]
  },
  {
   "cell_type": "code",
   "execution_count": 18,
   "metadata": {},
   "outputs": [
    {
     "name": "stdout",
     "output_type": "stream",
     "text": [
      "Serialized data has been written to 'lyrics.txt'.\n"
     ]
    }
   ],
   "source": [
    "import requests\n",
    "import json\n",
    "import pickle\n",
    "\n",
    "result = json.loads(requests.get('https://api.lyrics.ovh/v1/The White Stripes/My Doorbell').text)\n",
    "\n",
    "## pickle dictionary\n",
    "serialized_dict = pickle.dumps(result)\n",
    "\n",
    "## write serialized dictionary to a file\n",
    "try:\n",
    "    with open(\"lyrics.txt\", \"wb\") as file:\n",
    "        file.write(serialized_dict)\n",
    "    print(\"Serialized data has been written to 'lyrics.txt'.\")\n",
    "except IOError:\n",
    "    print(\"Error occurred while writing to the file.\")"
   ]
  },
  {
   "cell_type": "markdown",
   "metadata": {},
   "source": [
    "2. Read in the contents of your file.  Print the lyrics of the song (not the entire dictionary!) and use spaCyTextBlob to perform sentiment analysis on the lyrics.  Print the polarity score of the sentiment analysis.  Given that the range of the polarity score is `[-1.0,1.0]` which corresponds to how positive or negative the text in question is, do you think the lyrics have a more positive or negative connotaion?  Answer this question in a comment in your code cell."
   ]
  },
  {
   "cell_type": "code",
   "execution_count": 19,
   "metadata": {},
   "outputs": [
    {
     "name": "stdout",
     "output_type": "stream",
     "text": [
      "Lyrics of loaded file:\n",
      "Paroles de la chanson My Doorbell par The White Stripes\n",
      "I'm thinkin' about my doorbell\n",
      "When ya gonna ring it, when ya gonna ring it\n",
      "I'm thinkin' about my doorbell\n",
      "When ya gonna ring it, when ya gonna ring it\n",
      "I'm thinkin' about my doorbell\n",
      "When ya gonna ring it, when ya gonna ring it\n",
      "Yeah, I been thinkin' about my doorbell\n",
      "\n",
      "Oh, well\n",
      "\n",
      "Well women and children need kisses\n",
      "Not the man in my life I know\n",
      "And I been goin' to Mister and Miss\n",
      "I respect the art at the show\n",
      "Take back what you said little girl\n",
      "And while you're at it take yourself back too\n",
      "\n",
      "I'm tired of sittin' and waitin'\n",
      "Woman, whatcha gonna do now, whatcha gonna do about it\n",
      "\n",
      "I'm thinkin' about my doorbell\n",
      "When ya gonna ring it, when ya gonna ring it\n",
      "Yeah, I'm thinkin' about my doorbell\n",
      "When ya gonna ring it, when ya gonna ring it oh\n",
      "I'm thinkin' about my doorbell\n",
      "When ya gonna ring it, when ya gonna ring it\n",
      "Yeah, I been thinkin' about my doorbell\n",
      "\n",
      "Oh, well\n",
      "\n",
      "You don't seem to come around\n",
      "Point your finger and make a sound\n",
      "You don't seem to come around\n",
      "Knock knock since you knocked it down\n",
      "\n",
      "\n",
      "Oh, well\n",
      "\n",
      "Make a sound and I'll make you feel right\n",
      "Right at home\n",
      "Right at home\n",
      "\n",
      "You know you got me waiting in vain,\n",
      "How come it's so easy to you?\n",
      "You don't strike me as the type to be callous\n",
      "But your words seem so obtuse\n",
      "But then again I know you feel guilty\n",
      "And you tell me you want me again\n",
      "But I don't need any of your pity\n",
      "I got plenty of my own friends\n",
      "They're all above me\n",
      "\n",
      "And I've been thinkin' about my doorbell\n",
      "\n",
      "When they gonna ring it, when they gonna ring it\n",
      "Yeah, I've been thinkin' about my doorbell\n",
      "When they gonna ring it, when they gonna ring it, oh\n",
      "I've been thinkin' about my doorbell\n",
      "When they gonna ring it, when they gonna ring it\n",
      "Yeah, I been thinkin' about my doorbell\n",
      "\n",
      "Oh, well\n",
      "\n",
      "They don't seem to come around\n",
      "Point your finger and make a sound\n",
      "They don't seem to come around\n",
      "Maybe they they'll knock 'em down\n",
      "\n",
      "Oh, well\n",
      "\n",
      "Make a sound and I'll make you feel right\n",
      "\n",
      "Right at home\n",
      "Right at home\n",
      "\n",
      "I'm thinkin' about my doorbell\n",
      "When ya gonna ring it, when ya gonna ring it\n",
      "I'm thinkin' about my doorbell\n",
      "When ya gonna ring it, when ya gonna ring it\n",
      "I'm thinkin' about my doorbell\n",
      "When ya gonna ring it, when ya gonna ring it\n",
      "Yeah, I been thinkin' about my doorbell\n",
      "When you're gonna ring it, when you're gonna ring it\n",
      "\n",
      "I'm thinkin' about my doorbell\n",
      "When ya gonna ring it, when ya gonna ring it\n",
      "I'm thinkin' about my doorbell, oh, oh well\n",
      "--------------------\n",
      "Polarity: 0.12950036075036073\n"
     ]
    }
   ],
   "source": [
    "import pickle\n",
    "import spacy\n",
    "\n",
    "from spacy.tokens import Doc, Span\n",
    "from spacytextblob.spacytextblob import SpacyTextBlob\n",
    "\n",
    "# read in file\n",
    "try:\n",
    "    with open(\"lyrics.txt\", \"rb\") as file:\n",
    "        lyrics = pickle.load(file)\n",
    "\n",
    "        # print(\"Deserialized dictionary:\")\n",
    "        # print(lyrics)\n",
    "\n",
    "except IOError:\n",
    "    print(\"Error occurred while reading from the file.\")\n",
    "except pickle.UnpicklingError:\n",
    "    print(\"Error occurred while unpickling the data.\")\n",
    "              \n",
    "# print lyrics only\n",
    "\n",
    "print(\"Lyrics of loaded file:\")\n",
    "print(lyrics['lyrics'])\n",
    "print('--------------------')\n",
    "\n",
    "# use nlp with spacytextblob to find sentiment polarity score of lyrics\n",
    "\n",
    "# start spacy pipeline by loading pre-trained english model\n",
    "nlp = spacy.load(\"en_core_web_sm\")\n",
    "\n",
    "# add spaceytextblob to the pipeline\n",
    "nlp.add_pipe(\"spacytextblob\")\n",
    "\n",
    "# Procoss lyrics\n",
    "doc = nlp(lyrics['lyrics'])\n",
    "\n",
    "# show polarity score\n",
    "print(f\"Polarity: {doc._.blob.polarity}\")\n",
    "\n",
    "# Other items from spaCy documentation:\n",
    "# print(f\"Subjectivity: {doc._.blob.subjectivity}\")                        # Subjectivity: 0.9\n",
    "# print(f\"Assessments: {doc._.blob.sentiment_assessments.assessments}\") # Assessments: [(['really', 'horrible'], -1.0, 1.0, None), (['worst', '!'], -1.0, 1.0, None), (['really', 'good'], 0.7, 0.6000000000000001, None), (['happy'], 0.8, 1.0, None)]\n",
    "# print(f\"NGrams: {doc._.blob.ngrams()}\")\n",
    "\n",
    "\n",
    "\n",
    "# Does the song have a positive or negative connotation?\n",
    "\n",
    "# The polarity is close to 0 at 0.13, and I think that matches the song pretty well.  The song \n",
    "# is largely about someone wanting more, but it isn't particularly sad or happy.\n"
   ]
  },
  {
   "cell_type": "markdown",
   "metadata": {},
   "source": [
    "3. Write a function that takes an artist, song, and filename, accesses the lyrics.ovh api to get the song lyrics, and writes the results to the specified filename.  Test this function by getting the lyrics to any four songs of your choice and storing them in different files."
   ]
  },
  {
   "cell_type": "code",
   "execution_count": 20,
   "metadata": {},
   "outputs": [
    {
     "name": "stdout",
     "output_type": "stream",
     "text": [
      "Serialized data has been written to 'The White Stripes_Blue Orchid_lyrics.txt'.\n",
      "Serialized data has been written to 'The White Stripes_The Nurse_lyrics.txt'.\n",
      "Serialized data has been written to 'The White Stripes_Little Ghost_lyrics.txt'.\n",
      "Serialized data has been written to 'The White Stripes_Forever For Her (Is Over For Me)_lyrics.txt'.\n"
     ]
    }
   ],
   "source": [
    "def lyrics_from_api_request(artist, song, filename):\n",
    "\n",
    "    # make api requests with parameters from function call\n",
    "    result = json.loads(requests.get(f'https://api.lyrics.ovh/v1/{artist}/{song}').text)\n",
    "\n",
    "    # serialize the result\n",
    "    serialized_result = pickle.dumps(result)\n",
    "\n",
    "    ## write serialized dictionary to a file\n",
    "    try:\n",
    "        with open(f\"{filename}.txt\", \"wb\") as file:\n",
    "            file.write(serialized_result)\n",
    "        print(f\"Serialized data has been written to '{artist}_{song}_lyrics.txt'.\")\n",
    "    except IOError:\n",
    "        print(\"Error occurred while writing to the file.\")\n",
    "        \n",
    "lyrics_from_api_request(\"The White Stripes\", \"Blue Orchid\", \"Blue_Orchid\")\n",
    "lyrics_from_api_request(\"The White Stripes\", \"The Nurse\", \"The_Nurse\")\n",
    "lyrics_from_api_request(\"The White Stripes\", \"Little Ghost\", \"Little_Ghost\")\n",
    "lyrics_from_api_request(\"The White Stripes\", \"Forever For Her (Is Over For Me)\", \"Forever_For_Her\")"
   ]
  },
  {
   "cell_type": "markdown",
   "metadata": {},
   "source": [
    "4. Write a function that takes the name of a file that contains song lyrics, loads the file, performs sentiment analysis, and returns the polarity score.  Use this function to print the polarity scores (with the name of the song) of the three files you created in question 3.  Does the reported polarity match your understanding of the song's lyrics? Why or why not do you think that might be?  Answer the questions in either a comment in the code cell or a markdown cell under the code cell."
   ]
  },
  {
   "cell_type": "code",
   "execution_count": 21,
   "metadata": {},
   "outputs": [
    {
     "name": "stdout",
     "output_type": "stream",
     "text": [
      "Blue_Orchid - Polarity: -0.05434782608695651\n",
      "Forever_For_Her - Polarity: 0.19145299145299147\n",
      "Little_Ghost - Polarity: 0.09387254901960786\n",
      "The_Nurse - Polarity: -0.0762962962962963\n"
     ]
    }
   ],
   "source": [
    "import pickle\n",
    "import spacy\n",
    "\n",
    "from spacy.tokens import Doc, Span\n",
    "from spacytextblob.spacytextblob import SpacyTextBlob    \n",
    "\n",
    "def analyze_lyrics_from_file(filename):\n",
    "    # read in the serialized file\n",
    "    try:\n",
    "        with open(f\"{filename}.txt\", \"rb\") as file:\n",
    "            lyrics = pickle.load(file)\n",
    "\n",
    "            # print(\"Deserialized dictionary:\")\n",
    "            # print(lyrics)\n",
    "\n",
    "    except IOError:\n",
    "        print(\"Error occurred while reading from the file.\")\n",
    "    except pickle.UnpicklingError:\n",
    "        print(\"Error occurred while unpickling the data.\")\n",
    "\n",
    "    nlp = spacy.load(\"en_core_web_sm\")\n",
    "\n",
    "    # add spaceytextblob to the pipeline\n",
    "    nlp.add_pipe(\"spacytextblob\")\n",
    "\n",
    "    # Procoss lyrics\n",
    "    doc = nlp(lyrics['lyrics'])\n",
    "\n",
    "    # return polarity score\n",
    "    return f\"{filename} - Polarity: {doc._.blob.polarity}\"\n",
    "\n",
    "print(analyze_lyrics_from_file(\"Blue_Orchid\"))\n",
    "print(analyze_lyrics_from_file(\"Forever_For_Her\"))\n",
    "print(analyze_lyrics_from_file(\"Little_Ghost\"))\n",
    "print(analyze_lyrics_from_file(\"The_Nurse\"))    "
   ]
  },
  {
   "cell_type": "markdown",
   "metadata": {},
   "source": [
    "### Does the reported polarity match your understanding of the song's lyrics? Why or why not do you think that might be?\n",
    "\n",
    "All four scores are very near zero.  For Blue Orchid and The Nurse, I expect a neutral score.  I don't think either song conveys a strong positive or negative message.  Forever For Her is a fairly sad song, but it had the strongest polarity of any of the songs at 0.191.  I would have expected this song to be the most clearly negative song of the four (the opening lyrics are \"I blew it // And if i knew what to do, then i'd do it\").  It is largely neutral, but I'm surprised it is as positive as it is.  Similarly, Little Ghost repeats the following lines 4 times: \n",
    "\n",
    "Little ghost, little ghost <br>\n",
    "One I'm scared of the most <br>\n",
    "Can you scare me up a little bit of love? <br>\n",
    "I'm the only one that sees you <br>\n",
    "And I can't do much to please you <br>\n",
    "And it's not yet time to meet the Lord above\n",
    "\n",
    "I think a lot of the words feel negative to me, and I don't see too much that is positive.  "
   ]
  }
 ],
 "metadata": {
  "kernelspec": {
   "display_name": "Python 3",
   "language": "python",
   "name": "python3"
  },
  "language_info": {
   "codemirror_mode": {
    "name": "ipython",
    "version": 3
   },
   "file_extension": ".py",
   "mimetype": "text/x-python",
   "name": "python",
   "nbconvert_exporter": "python",
   "pygments_lexer": "ipython3",
   "version": "3.11.8"
  }
 },
 "nbformat": 4,
 "nbformat_minor": 4
}
